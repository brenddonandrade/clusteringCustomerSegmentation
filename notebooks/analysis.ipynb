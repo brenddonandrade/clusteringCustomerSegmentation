{
 "cells": [
  {
   "cell_type": "markdown",
   "id": "510a9df3",
   "metadata": {},
   "source": [
    "## About the dataset"
   ]
  },
  {
   "cell_type": "markdown",
   "id": "6d47b317",
   "metadata": {},
   "source": [
    "Ref 1: [Customer Segmentation Dataset](https://www.kaggle.com/datasets/yasserh/customer-segmentation-dataset)\n",
    "\n",
    "Ref 2: [Online Retail](https://archive.ics.uci.edu/dataset/352/online+retail)\n",
    "\n",
    "\n",
    "This is a transactional data set which contains all the transactions occurring between 01/12/2010 and 09/12/2011 for a UK-based and registered non-store online retail.\n"
   ]
  },
  {
   "cell_type": "markdown",
   "id": "7d5713cb",
   "metadata": {},
   "source": [
    "### Variables \n",
    "```\n",
    "- InvoiceNo: a 6-digit integral number uniquely assigned to each transaction. If this code starts with letter 'c', it indicates a cancellation\n",
    "- StockCode: a 5-digit integral number uniquely assigned to each distinct product\n",
    "- Description: product name\n",
    "- Quantity: the quantities of each product (item) per transaction\n",
    "- InvoiceDate: the day and time when each transaction was generated\n",
    "- UnitPrice: product price per unit\n",
    "- CustomerID: a 5-digit integral number uniquely assigned to each customer\n",
    "- Country: the name of the country where each customer resides\n",
    "```\n"
   ]
  },
  {
   "cell_type": "markdown",
   "id": "e36b7b43",
   "metadata": {},
   "source": [
    "## Code"
   ]
  },
  {
   "cell_type": "markdown",
   "id": "fbaf1fdf",
   "metadata": {},
   "source": [
    "### Importing Libraries"
   ]
  },
  {
   "cell_type": "code",
   "execution_count": 1,
   "id": "990d6d17",
   "metadata": {},
   "outputs": [],
   "source": [
    "import pandas as pd\n",
    "import numpy as np\n",
    "import matplotlib.pyplot as plt\n",
    "import seaborn as sns\n",
    "from sklearn.cluster import KMeans\n",
    "from sklearn.metrics import silhouette_score\n",
    "from sklearn.preprocessing import StandardScaler\n",
    "import os\n",
    "from tqdm import tqdm\n",
    "import time"
   ]
  },
  {
   "cell_type": "markdown",
   "id": "9aec2816",
   "metadata": {},
   "source": [
    "### Read and Preprocessing Data"
   ]
  },
  {
   "cell_type": "code",
   "execution_count": 2,
   "id": "b2af935d",
   "metadata": {},
   "outputs": [],
   "source": [
    "current_path = os.getcwd()\n",
    "data_path = os.path.join(current_path, '../data')\n",
    "\n",
    "file = os.path.join(data_path,'clientes.xlsx')\n",
    "\n",
    "df_clients = pd.read_excel(file)"
   ]
  },
  {
   "cell_type": "code",
   "execution_count": 3,
   "id": "47804a1e",
   "metadata": {},
   "outputs": [],
   "source": [
    "# backup df\n",
    "df_save = df_clients.copy()"
   ]
  },
  {
   "cell_type": "code",
   "execution_count": 4,
   "id": "b2335bc0",
   "metadata": {},
   "outputs": [
    {
     "data": {
      "text/html": [
       "<div>\n",
       "<style scoped>\n",
       "    .dataframe tbody tr th:only-of-type {\n",
       "        vertical-align: middle;\n",
       "    }\n",
       "\n",
       "    .dataframe tbody tr th {\n",
       "        vertical-align: top;\n",
       "    }\n",
       "\n",
       "    .dataframe thead th {\n",
       "        text-align: right;\n",
       "    }\n",
       "</style>\n",
       "<table border=\"1\" class=\"dataframe\">\n",
       "  <thead>\n",
       "    <tr style=\"text-align: right;\">\n",
       "      <th></th>\n",
       "      <th>InvoiceNo</th>\n",
       "      <th>StockCode</th>\n",
       "      <th>Description</th>\n",
       "      <th>Quantity</th>\n",
       "      <th>InvoiceDate</th>\n",
       "      <th>UnitPrice</th>\n",
       "      <th>CustomerID</th>\n",
       "      <th>Country</th>\n",
       "    </tr>\n",
       "  </thead>\n",
       "  <tbody>\n",
       "    <tr>\n",
       "      <th>0</th>\n",
       "      <td>536365</td>\n",
       "      <td>85123A</td>\n",
       "      <td>WHITE HANGING HEART T-LIGHT HOLDER</td>\n",
       "      <td>6</td>\n",
       "      <td>2010-12-01 08:26:00</td>\n",
       "      <td>2.55</td>\n",
       "      <td>17850.0</td>\n",
       "      <td>United Kingdom</td>\n",
       "    </tr>\n",
       "    <tr>\n",
       "      <th>1</th>\n",
       "      <td>536365</td>\n",
       "      <td>71053</td>\n",
       "      <td>WHITE METAL LANTERN</td>\n",
       "      <td>6</td>\n",
       "      <td>2010-12-01 08:26:00</td>\n",
       "      <td>3.39</td>\n",
       "      <td>17850.0</td>\n",
       "      <td>United Kingdom</td>\n",
       "    </tr>\n",
       "    <tr>\n",
       "      <th>2</th>\n",
       "      <td>536365</td>\n",
       "      <td>84406B</td>\n",
       "      <td>CREAM CUPID HEARTS COAT HANGER</td>\n",
       "      <td>8</td>\n",
       "      <td>2010-12-01 08:26:00</td>\n",
       "      <td>2.75</td>\n",
       "      <td>17850.0</td>\n",
       "      <td>United Kingdom</td>\n",
       "    </tr>\n",
       "    <tr>\n",
       "      <th>3</th>\n",
       "      <td>536365</td>\n",
       "      <td>84029G</td>\n",
       "      <td>KNITTED UNION FLAG HOT WATER BOTTLE</td>\n",
       "      <td>6</td>\n",
       "      <td>2010-12-01 08:26:00</td>\n",
       "      <td>3.39</td>\n",
       "      <td>17850.0</td>\n",
       "      <td>United Kingdom</td>\n",
       "    </tr>\n",
       "    <tr>\n",
       "      <th>4</th>\n",
       "      <td>536365</td>\n",
       "      <td>84029E</td>\n",
       "      <td>RED WOOLLY HOTTIE WHITE HEART.</td>\n",
       "      <td>6</td>\n",
       "      <td>2010-12-01 08:26:00</td>\n",
       "      <td>3.39</td>\n",
       "      <td>17850.0</td>\n",
       "      <td>United Kingdom</td>\n",
       "    </tr>\n",
       "  </tbody>\n",
       "</table>\n",
       "</div>"
      ],
      "text/plain": [
       "  InvoiceNo StockCode                          Description  Quantity  \\\n",
       "0    536365    85123A   WHITE HANGING HEART T-LIGHT HOLDER         6   \n",
       "1    536365     71053                  WHITE METAL LANTERN         6   \n",
       "2    536365    84406B       CREAM CUPID HEARTS COAT HANGER         8   \n",
       "3    536365    84029G  KNITTED UNION FLAG HOT WATER BOTTLE         6   \n",
       "4    536365    84029E       RED WOOLLY HOTTIE WHITE HEART.         6   \n",
       "\n",
       "          InvoiceDate  UnitPrice  CustomerID         Country  \n",
       "0 2010-12-01 08:26:00       2.55     17850.0  United Kingdom  \n",
       "1 2010-12-01 08:26:00       3.39     17850.0  United Kingdom  \n",
       "2 2010-12-01 08:26:00       2.75     17850.0  United Kingdom  \n",
       "3 2010-12-01 08:26:00       3.39     17850.0  United Kingdom  \n",
       "4 2010-12-01 08:26:00       3.39     17850.0  United Kingdom  "
      ]
     },
     "execution_count": 4,
     "metadata": {},
     "output_type": "execute_result"
    }
   ],
   "source": [
    "df_clients.head()"
   ]
  },
  {
   "cell_type": "code",
   "execution_count": 5,
   "id": "8cfbc0f6",
   "metadata": {},
   "outputs": [
    {
     "data": {
      "text/html": [
       "<div>\n",
       "<style scoped>\n",
       "    .dataframe tbody tr th:only-of-type {\n",
       "        vertical-align: middle;\n",
       "    }\n",
       "\n",
       "    .dataframe tbody tr th {\n",
       "        vertical-align: top;\n",
       "    }\n",
       "\n",
       "    .dataframe thead th {\n",
       "        text-align: right;\n",
       "    }\n",
       "</style>\n",
       "<table border=\"1\" class=\"dataframe\">\n",
       "  <thead>\n",
       "    <tr style=\"text-align: right;\">\n",
       "      <th></th>\n",
       "      <th>Quantity</th>\n",
       "      <th>InvoiceDate</th>\n",
       "      <th>UnitPrice</th>\n",
       "      <th>CustomerID</th>\n",
       "    </tr>\n",
       "  </thead>\n",
       "  <tbody>\n",
       "    <tr>\n",
       "      <th>count</th>\n",
       "      <td>541909.000000</td>\n",
       "      <td>541909</td>\n",
       "      <td>541909.000000</td>\n",
       "      <td>406829.000000</td>\n",
       "    </tr>\n",
       "    <tr>\n",
       "      <th>mean</th>\n",
       "      <td>9.552250</td>\n",
       "      <td>2011-07-04 13:34:57.156386048</td>\n",
       "      <td>4.611114</td>\n",
       "      <td>15287.690570</td>\n",
       "    </tr>\n",
       "    <tr>\n",
       "      <th>min</th>\n",
       "      <td>-80995.000000</td>\n",
       "      <td>2010-12-01 08:26:00</td>\n",
       "      <td>-11062.060000</td>\n",
       "      <td>12346.000000</td>\n",
       "    </tr>\n",
       "    <tr>\n",
       "      <th>25%</th>\n",
       "      <td>1.000000</td>\n",
       "      <td>2011-03-28 11:34:00</td>\n",
       "      <td>1.250000</td>\n",
       "      <td>13953.000000</td>\n",
       "    </tr>\n",
       "    <tr>\n",
       "      <th>50%</th>\n",
       "      <td>3.000000</td>\n",
       "      <td>2011-07-19 17:17:00</td>\n",
       "      <td>2.080000</td>\n",
       "      <td>15152.000000</td>\n",
       "    </tr>\n",
       "    <tr>\n",
       "      <th>75%</th>\n",
       "      <td>10.000000</td>\n",
       "      <td>2011-10-19 11:27:00</td>\n",
       "      <td>4.130000</td>\n",
       "      <td>16791.000000</td>\n",
       "    </tr>\n",
       "    <tr>\n",
       "      <th>max</th>\n",
       "      <td>80995.000000</td>\n",
       "      <td>2011-12-09 12:50:00</td>\n",
       "      <td>38970.000000</td>\n",
       "      <td>18287.000000</td>\n",
       "    </tr>\n",
       "    <tr>\n",
       "      <th>std</th>\n",
       "      <td>218.081158</td>\n",
       "      <td>NaN</td>\n",
       "      <td>96.759853</td>\n",
       "      <td>1713.600303</td>\n",
       "    </tr>\n",
       "  </tbody>\n",
       "</table>\n",
       "</div>"
      ],
      "text/plain": [
       "            Quantity                    InvoiceDate      UnitPrice  \\\n",
       "count  541909.000000                         541909  541909.000000   \n",
       "mean        9.552250  2011-07-04 13:34:57.156386048       4.611114   \n",
       "min    -80995.000000            2010-12-01 08:26:00  -11062.060000   \n",
       "25%         1.000000            2011-03-28 11:34:00       1.250000   \n",
       "50%         3.000000            2011-07-19 17:17:00       2.080000   \n",
       "75%        10.000000            2011-10-19 11:27:00       4.130000   \n",
       "max     80995.000000            2011-12-09 12:50:00   38970.000000   \n",
       "std       218.081158                            NaN      96.759853   \n",
       "\n",
       "          CustomerID  \n",
       "count  406829.000000  \n",
       "mean    15287.690570  \n",
       "min     12346.000000  \n",
       "25%     13953.000000  \n",
       "50%     15152.000000  \n",
       "75%     16791.000000  \n",
       "max     18287.000000  \n",
       "std      1713.600303  "
      ]
     },
     "execution_count": 5,
     "metadata": {},
     "output_type": "execute_result"
    }
   ],
   "source": [
    "df_clients.describe()"
   ]
  },
  {
   "cell_type": "code",
   "execution_count": 6,
   "id": "55a5f6c2",
   "metadata": {},
   "outputs": [
    {
     "data": {
      "text/plain": [
       "InvoiceNo           0\n",
       "StockCode           0\n",
       "Description      1454\n",
       "Quantity            0\n",
       "InvoiceDate         0\n",
       "UnitPrice           0\n",
       "CustomerID     135080\n",
       "Country             0\n",
       "dtype: int64"
      ]
     },
     "execution_count": 6,
     "metadata": {},
     "output_type": "execute_result"
    }
   ],
   "source": [
    "# verify NaN values\n",
    "df_clients.isna().sum()"
   ]
  },
  {
   "cell_type": "code",
   "execution_count": 7,
   "id": "2754d880",
   "metadata": {},
   "outputs": [
    {
     "data": {
      "text/plain": [
       "InvoiceNo      0\n",
       "StockCode      0\n",
       "Description    0\n",
       "Quantity       0\n",
       "InvoiceDate    0\n",
       "UnitPrice      0\n",
       "CustomerID     0\n",
       "Country        0\n",
       "dtype: int64"
      ]
     },
     "execution_count": 7,
     "metadata": {},
     "output_type": "execute_result"
    }
   ],
   "source": [
    "# clean NaN values\n",
    "df_clients = df_clients.dropna()\n",
    "df_clients.isna().sum()"
   ]
  },
  {
   "cell_type": "code",
   "execution_count": 8,
   "id": "581e6710",
   "metadata": {},
   "outputs": [
    {
     "data": {
      "text/html": [
       "<div>\n",
       "<style scoped>\n",
       "    .dataframe tbody tr th:only-of-type {\n",
       "        vertical-align: middle;\n",
       "    }\n",
       "\n",
       "    .dataframe tbody tr th {\n",
       "        vertical-align: top;\n",
       "    }\n",
       "\n",
       "    .dataframe thead th {\n",
       "        text-align: right;\n",
       "    }\n",
       "</style>\n",
       "<table border=\"1\" class=\"dataframe\">\n",
       "  <thead>\n",
       "    <tr style=\"text-align: right;\">\n",
       "      <th></th>\n",
       "      <th>InvoiceNo</th>\n",
       "      <th>StockCode</th>\n",
       "      <th>Description</th>\n",
       "      <th>Quantity</th>\n",
       "      <th>InvoiceDate</th>\n",
       "      <th>UnitPrice</th>\n",
       "      <th>CustomerID</th>\n",
       "      <th>Country</th>\n",
       "    </tr>\n",
       "  </thead>\n",
       "  <tbody>\n",
       "    <tr>\n",
       "      <th>0</th>\n",
       "      <td>536365</td>\n",
       "      <td>85123A</td>\n",
       "      <td>WHITE HANGING HEART T-LIGHT HOLDER</td>\n",
       "      <td>6</td>\n",
       "      <td>2010-12-01 08:26:00</td>\n",
       "      <td>2.55</td>\n",
       "      <td>17850.0</td>\n",
       "      <td>United Kingdom</td>\n",
       "    </tr>\n",
       "    <tr>\n",
       "      <th>1</th>\n",
       "      <td>536365</td>\n",
       "      <td>71053</td>\n",
       "      <td>WHITE METAL LANTERN</td>\n",
       "      <td>6</td>\n",
       "      <td>2010-12-01 08:26:00</td>\n",
       "      <td>3.39</td>\n",
       "      <td>17850.0</td>\n",
       "      <td>United Kingdom</td>\n",
       "    </tr>\n",
       "    <tr>\n",
       "      <th>2</th>\n",
       "      <td>536365</td>\n",
       "      <td>84406B</td>\n",
       "      <td>CREAM CUPID HEARTS COAT HANGER</td>\n",
       "      <td>8</td>\n",
       "      <td>2010-12-01 08:26:00</td>\n",
       "      <td>2.75</td>\n",
       "      <td>17850.0</td>\n",
       "      <td>United Kingdom</td>\n",
       "    </tr>\n",
       "    <tr>\n",
       "      <th>3</th>\n",
       "      <td>536365</td>\n",
       "      <td>84029G</td>\n",
       "      <td>KNITTED UNION FLAG HOT WATER BOTTLE</td>\n",
       "      <td>6</td>\n",
       "      <td>2010-12-01 08:26:00</td>\n",
       "      <td>3.39</td>\n",
       "      <td>17850.0</td>\n",
       "      <td>United Kingdom</td>\n",
       "    </tr>\n",
       "    <tr>\n",
       "      <th>4</th>\n",
       "      <td>536365</td>\n",
       "      <td>84029E</td>\n",
       "      <td>RED WOOLLY HOTTIE WHITE HEART.</td>\n",
       "      <td>6</td>\n",
       "      <td>2010-12-01 08:26:00</td>\n",
       "      <td>3.39</td>\n",
       "      <td>17850.0</td>\n",
       "      <td>United Kingdom</td>\n",
       "    </tr>\n",
       "    <tr>\n",
       "      <th>...</th>\n",
       "      <td>...</td>\n",
       "      <td>...</td>\n",
       "      <td>...</td>\n",
       "      <td>...</td>\n",
       "      <td>...</td>\n",
       "      <td>...</td>\n",
       "      <td>...</td>\n",
       "      <td>...</td>\n",
       "    </tr>\n",
       "    <tr>\n",
       "      <th>541904</th>\n",
       "      <td>581587</td>\n",
       "      <td>22613</td>\n",
       "      <td>PACK OF 20 SPACEBOY NAPKINS</td>\n",
       "      <td>12</td>\n",
       "      <td>2011-12-09 12:50:00</td>\n",
       "      <td>0.85</td>\n",
       "      <td>12680.0</td>\n",
       "      <td>France</td>\n",
       "    </tr>\n",
       "    <tr>\n",
       "      <th>541905</th>\n",
       "      <td>581587</td>\n",
       "      <td>22899</td>\n",
       "      <td>CHILDREN'S APRON DOLLY GIRL</td>\n",
       "      <td>6</td>\n",
       "      <td>2011-12-09 12:50:00</td>\n",
       "      <td>2.10</td>\n",
       "      <td>12680.0</td>\n",
       "      <td>France</td>\n",
       "    </tr>\n",
       "    <tr>\n",
       "      <th>541906</th>\n",
       "      <td>581587</td>\n",
       "      <td>23254</td>\n",
       "      <td>CHILDRENS CUTLERY DOLLY GIRL</td>\n",
       "      <td>4</td>\n",
       "      <td>2011-12-09 12:50:00</td>\n",
       "      <td>4.15</td>\n",
       "      <td>12680.0</td>\n",
       "      <td>France</td>\n",
       "    </tr>\n",
       "    <tr>\n",
       "      <th>541907</th>\n",
       "      <td>581587</td>\n",
       "      <td>23255</td>\n",
       "      <td>CHILDRENS CUTLERY CIRCUS PARADE</td>\n",
       "      <td>4</td>\n",
       "      <td>2011-12-09 12:50:00</td>\n",
       "      <td>4.15</td>\n",
       "      <td>12680.0</td>\n",
       "      <td>France</td>\n",
       "    </tr>\n",
       "    <tr>\n",
       "      <th>541908</th>\n",
       "      <td>581587</td>\n",
       "      <td>22138</td>\n",
       "      <td>BAKING SET 9 PIECE RETROSPOT</td>\n",
       "      <td>3</td>\n",
       "      <td>2011-12-09 12:50:00</td>\n",
       "      <td>4.95</td>\n",
       "      <td>12680.0</td>\n",
       "      <td>France</td>\n",
       "    </tr>\n",
       "  </tbody>\n",
       "</table>\n",
       "<p>406829 rows × 8 columns</p>\n",
       "</div>"
      ],
      "text/plain": [
       "       InvoiceNo StockCode                          Description  Quantity  \\\n",
       "0         536365    85123A   WHITE HANGING HEART T-LIGHT HOLDER         6   \n",
       "1         536365     71053                  WHITE METAL LANTERN         6   \n",
       "2         536365    84406B       CREAM CUPID HEARTS COAT HANGER         8   \n",
       "3         536365    84029G  KNITTED UNION FLAG HOT WATER BOTTLE         6   \n",
       "4         536365    84029E       RED WOOLLY HOTTIE WHITE HEART.         6   \n",
       "...          ...       ...                                  ...       ...   \n",
       "541904    581587     22613          PACK OF 20 SPACEBOY NAPKINS        12   \n",
       "541905    581587     22899         CHILDREN'S APRON DOLLY GIRL          6   \n",
       "541906    581587     23254        CHILDRENS CUTLERY DOLLY GIRL          4   \n",
       "541907    581587     23255      CHILDRENS CUTLERY CIRCUS PARADE         4   \n",
       "541908    581587     22138        BAKING SET 9 PIECE RETROSPOT          3   \n",
       "\n",
       "               InvoiceDate  UnitPrice  CustomerID         Country  \n",
       "0      2010-12-01 08:26:00       2.55     17850.0  United Kingdom  \n",
       "1      2010-12-01 08:26:00       3.39     17850.0  United Kingdom  \n",
       "2      2010-12-01 08:26:00       2.75     17850.0  United Kingdom  \n",
       "3      2010-12-01 08:26:00       3.39     17850.0  United Kingdom  \n",
       "4      2010-12-01 08:26:00       3.39     17850.0  United Kingdom  \n",
       "...                    ...        ...         ...             ...  \n",
       "541904 2011-12-09 12:50:00       0.85     12680.0          France  \n",
       "541905 2011-12-09 12:50:00       2.10     12680.0          France  \n",
       "541906 2011-12-09 12:50:00       4.15     12680.0          France  \n",
       "541907 2011-12-09 12:50:00       4.15     12680.0          France  \n",
       "541908 2011-12-09 12:50:00       4.95     12680.0          France  \n",
       "\n",
       "[406829 rows x 8 columns]"
      ]
     },
     "execution_count": 8,
     "metadata": {},
     "output_type": "execute_result"
    }
   ],
   "source": [
    "df_clients"
   ]
  },
  {
   "cell_type": "code",
   "execution_count": 9,
   "id": "e1df202f",
   "metadata": {},
   "outputs": [],
   "source": [
    "# Normalize data\n",
    "scaler = StandardScaler()\n",
    "\n",
    "X = scaler.fit_transform(df_clients[['Quantity', 'UnitPrice']])"
   ]
  },
  {
   "cell_type": "markdown",
   "id": "96f87ede",
   "metadata": {},
   "source": [
    "### Finding the optimal number of clusters (k)"
   ]
  },
  {
   "cell_type": "code",
   "execution_count": 10,
   "id": "f492f2be",
   "metadata": {},
   "outputs": [],
   "source": [
    "# sil_scores = []\n",
    "# range_n_clusters = list(range(2, 11))\n",
    "\n",
    "# for k in tqdm(range_n_clusters, desc='Finding number of clusters'):\n",
    "#     kmeans = KMeans(n_clusters=k, random_state=42)\n",
    "#     labels = kmeans.fit_predict(X)\n",
    "#     score = silhouette_score(X, labels)\n",
    "#     sil_scores.append(score)\n",
    "\n",
    "# # Plot\n",
    "# plt.plot(range_n_clusters, sil_scores, marker='o')\n",
    "# plt.xlabel(\"Número de Clusters (k)\")\n",
    "# plt.ylabel(\"Silhouette Score\")\n",
    "# plt.title(\"Escolha do melhor k\")\n",
    "# plt.savefig('bestChoice.png', dpi=300)\n",
    "# # plt.show()\n",
    "\n",
    "# melhor_k = range_n_clusters[np.argmax(sil_scores)]\n",
    "# print(\"Melhor número de clusters:\", melhor_k)"
   ]
  },
  {
   "cell_type": "markdown",
   "id": "e9b7d16c",
   "metadata": {},
   "source": [
    "### Apply the KMeans model with best k"
   ]
  },
  {
   "cell_type": "code",
   "execution_count": 11,
   "id": "d8dd769a",
   "metadata": {},
   "outputs": [
    {
     "name": "stdout",
     "output_type": "stream",
     "text": [
      "First 0.00 seconds\n",
      "Second 0.14 seconds\n"
     ]
    }
   ],
   "source": [
    "melhor_k = 4\n",
    "\n",
    "start = time.time()\n",
    "kmeans = KMeans(n_clusters=melhor_k, random_state=42)\n",
    "end_1 = time.time()\n",
    "df_clients['cluster'] = kmeans.fit_predict(X)\n",
    "end_2 = time.time()\n",
    "\n",
    "print(f'First {end_1 - start:.2f} seconds')\n",
    "print(f'Second {end_2 - end_1:.2f} seconds')\n"
   ]
  },
  {
   "cell_type": "markdown",
   "id": "5ea044f1",
   "metadata": {},
   "source": [
    "### Cluster analysis and visualization"
   ]
  },
  {
   "cell_type": "code",
   "execution_count": 13,
   "id": "10d6c8ba",
   "metadata": {},
   "outputs": [
    {
     "name": "stdout",
     "output_type": "stream",
     "text": [
      "         Quantity  UnitPrice\n",
      "cluster                     \n",
      "0           12.06       3.36\n",
      "1           -1.00   38970.00\n",
      "2        77605.00       1.56\n",
      "3       -77605.00       1.56\n"
     ]
    },
    {
     "data": {
      "image/png": "[encoded data removed]",
      "text/plain": [
       "<Figure size 640x480 with 1 Axes>"
      ]
     },
     "metadata": {},
     "output_type": "display_data"
    }
   ],
   "source": [
    "# Desnormalizar se necessário para interpretação\n",
    "X_df = pd.DataFrame(X, columns=['Quantity_scaled', 'UnitPrice_scaled'])\n",
    "df_clusters = pd.concat([X_df, df_clients['cluster'].reset_index(drop=True)], axis=1)\n",
    "\n",
    "# Visualização em 2D com PCA ou apenas 2 variáveis principais\n",
    "sns.scatterplot(data=df_clusters, x='Quantity_scaled', y='UnitPrice_scaled', hue='cluster', palette='tab10')\n",
    "plt.title(\"Segmentação de Clientes\")\n",
    "# plt.show()\n",
    "plt.savefig('customerSegmentation.png', dpi=300)\n",
    "\n",
    "# Estatísticas por cluster\n",
    "personas = df_clients.groupby('cluster')[['Quantity', 'UnitPrice']].mean().round(2)\n",
    "print(personas)\n"
   ]
  },
  {
   "cell_type": "markdown",
   "id": "d1340c4d",
   "metadata": {},
   "source": [
    "### Definition of Personas"
   ]
  }
 ],
 "metadata": {
  "kernelspec": {
   "display_name": "bteste",
   "language": "python",
   "name": "python3"
  },
  "language_info": {
   "codemirror_mode": {
    "name": "ipython",
    "version": 3
   },
   "file_extension": ".py",
   "mimetype": "text/x-python",
   "name": "python",
   "nbconvert_exporter": "python",
   "pygments_lexer": "ipython3",
   "version": "3.10.18"
  }
 },
 "nbformat": 4,
 "nbformat_minor": 5
}
